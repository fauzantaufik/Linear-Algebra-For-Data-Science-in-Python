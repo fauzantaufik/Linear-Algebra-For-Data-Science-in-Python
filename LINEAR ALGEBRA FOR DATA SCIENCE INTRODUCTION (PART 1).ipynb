{
 "cells": [
  {
   "cell_type": "markdown",
   "metadata": {},
   "source": [
    "# LINEAR ALGEBRA FOR DATA SCIENCE INTRODUCTION (PART 1)"
   ]
  },
  {
   "cell_type": "markdown",
   "metadata": {},
   "source": [
    "## Motivasi Belajar Linear Algebra Untuk Data Science"
   ]
  },
  {
   "cell_type": "markdown",
   "metadata": {},
   "source": [
    "Linear Algebra adalah ilmu tentang pengopreasian linear terhadap objek objek dalam matematika seperti vektor, matriks, dan tensor. dimana data biasanya di representasikan dalam objek-objek tersebut. seperti contohnya data struktur yang biasanya di representasikan dalam tabel matriks. dimana kolom dalam matriks tersebut adalah sebuah vektor.\n",
    "\n",
    "Beberapa skill yang harus di miliki oleh data science adalah pemahaman, abstraksi atau intuisi dalam mengaplikasikan Matematika. Terutama Statistik dan Linear Algebra. jadi disini saya tidak akan menjelaskan detail tentang konsepnya seperti pembuktian dan sebagainya.\n",
    "\n",
    "Machine Learning, Deep Learning, dsb bukanlah suatu alat yang menghasilkan sesuatu tanpa proses. didalamnya terdapat konsep-konsep algoritma yang didasari oleh berbagai disiplin ilmu yang salah satunya matematika dan lebih khususnya statisik dan linear algebra.\n",
    "\n",
    "Apabila kita memahami bahan-bahan dasar pembangun teknologi ini, maka kita akan lebih cepat memahami dan menguasai teknologi tersebut. kita akan mendapatkan intuisi bagaimana mesin itu bekerja, kenapa mesin itu bekerja, dan dapat mengdianosis kenapa mesin learning itu gagal dalam kasus-kasus tertentu. dan dapat memberikan hipotesis algortima ML mana yang sekiranya akan bekerja dengan lebih baik."
   ]
  },
  {
   "cell_type": "markdown",
   "metadata": {},
   "source": [
    "## Liblary Linear Algebra di Python"
   ]
  },
  {
   "cell_type": "markdown",
   "metadata": {},
   "source": [
    "1. SciPy\n",
    "2. Numpy"
   ]
  },
  {
   "cell_type": "code",
   "execution_count": 4,
   "metadata": {},
   "outputs": [],
   "source": [
    "import numpy as np\n",
    "import scipy"
   ]
  },
  {
   "cell_type": "markdown",
   "metadata": {},
   "source": [
    "## Vektor"
   ]
  },
  {
   "cell_type": "markdown",
   "metadata": {},
   "source": [
    "Vektor dalam data science bisa di definisikan sebagai attribut atau feature. yang terdapat dalam kolomn suatu matriks."
   ]
  },
  {
   "cell_type": "code",
   "execution_count": 7,
   "metadata": {},
   "outputs": [
    {
     "name": "stdout",
     "output_type": "stream",
     "text": [
      "[90, 170, 180, 130] [1, 5, 20, 25]\n"
     ]
    }
   ],
   "source": [
    "vector_height = [90, \n",
    "                 170, \n",
    "                 180,\n",
    "                130]\n",
    "\n",
    "vector_temperature = [1,\n",
    "                     5, \n",
    "                     20,\n",
    "                     25]\n",
    "print(vector_height, vector_temperature)"
   ]
  },
  {
   "cell_type": "markdown",
   "metadata": {},
   "source": [
    "Mengapa saya menuliskan vektor vektor di atas dalam arah vertikal karena vektor dalam data terstruktur biasa di representasikan dalam kolom."
   ]
  },
  {
   "cell_type": "code",
   "execution_count": 8,
   "metadata": {},
   "outputs": [],
   "source": [
    "# Input Vektor secara otomatis\n",
    "\n",
    "vektor1 = np.linspace(1, 10, 5)\n",
    "vektor2 = np.arange(1, 10, 5)"
   ]
  },
  {
   "cell_type": "markdown",
   "metadata": {},
   "source": [
    "Perbedaan diantara yang keduanya adalah :\n",
    "1. linspace menyatakan bahwa kita ingin membuat vektor dengan nilai minimum 1 dan maksimum 10 sebanyak 5 input nilai. dimana setiap nilai mempunyai jarak yang sama.\n",
    "2. arange menyatakan kita membuat vektor dengan nilai minimum 1 dan maksimum 10 dengan jarak dari input tersebut 5. yang artinya akan menghasilkan 10/5=2 nilai input."
   ]
  },
  {
   "cell_type": "code",
   "execution_count": 11,
   "metadata": {},
   "outputs": [
    {
     "name": "stdout",
     "output_type": "stream",
     "text": [
      "[ 1.    3.25  5.5   7.75 10.  ]\n",
      "[1 6]\n"
     ]
    }
   ],
   "source": [
    "print(vektor1)\n",
    "\n",
    "print(vektor2)"
   ]
  },
  {
   "cell_type": "markdown",
   "metadata": {},
   "source": [
    "Matriks adalah koleksi informasi dalam 2 dimensi. dalam python matriks dapat di representasikan sebagai list dalam list. dimana setiap list yang ada dalam list mempunyai panjang yang sama dan merepresantikan sebuah baris atau objek observasi. matriks[i][j]\n",
    "adalah sebuah informasi yang terdapat dalam kolom ke i dan baris ke j."
   ]
  },
  {
   "cell_type": "code",
   "execution_count": 12,
   "metadata": {},
   "outputs": [],
   "source": [
    "A = [[1, 2, 3],  # Matriks A mempunyai 3 kolom dan 2 baris\n",
    "     [4, 5, 6]]\n",
    "\n",
    "B = [[1, 2],     # Matriks B mempunyai 2 baris dan 3 kolom\n",
    "     [3, 4],\n",
    "     [5, 6]]"
   ]
  },
  {
   "cell_type": "markdown",
   "metadata": {},
   "source": [
    "### Operasi Matriks-Vektor"
   ]
  },
  {
   "cell_type": "markdown",
   "metadata": {},
   "source": [
    "The rule of Thumb : Matriks (m x n) bisa di operasikan terhadap vektor yang memiliki panjang n dan menghasilkan m vektor. m = baris, n = kolom"
   ]
  },
  {
   "attachments": {
    "image.png": {
     "image/png": "[encoded data removed]"
    }
   },
   "cell_type": "markdown",
   "metadata": {},
   "source": [
    "![image.png](attachment:image.png)"
   ]
  },
  {
   "cell_type": "code",
   "execution_count": 13,
   "metadata": {},
   "outputs": [
    {
     "name": "stdout",
     "output_type": "stream",
     "text": [
      "[90, 170, 180, 130]\n"
     ]
    }
   ],
   "source": [
    "print(vector_height)"
   ]
  },
  {
   "cell_type": "code",
   "execution_count": 15,
   "metadata": {},
   "outputs": [
    {
     "name": "stdout",
     "output_type": "stream",
     "text": [
      "[[1, 2, 3], [4, 5, 6]]\n"
     ]
    }
   ],
   "source": [
    "print(A)"
   ]
  },
  {
   "cell_type": "code",
   "execution_count": 27,
   "metadata": {},
   "outputs": [
    {
     "name": "stdout",
     "output_type": "stream",
     "text": [
      "By Dot\n",
      "[ 970 2290]\n",
      "By Matmul\n",
      "[ 970 2290]\n",
      "By Inner\n",
      "[ 970 2290]\n",
      "By @ operator\n",
      "[ 970 2290]\n"
     ]
    }
   ],
   "source": [
    "# Disini saya akan mengubah tipe list menjadi numpy agar dapat dilakukan pengoperasian matriks dengan numpy\n",
    "\n",
    "vektor_A = np.array(vector_height[:3]) # ambil 3 nilai pertama dalam vector_height\n",
    "\n",
    "A = np.array(A)\n",
    "\n",
    "#Cara-cara mengkalikan matriks dengan vektor\n",
    "\n",
    "print(\"By Dot\")\n",
    "print(A.dot(vektor_A))\n",
    "print(\"By Matmul\")\n",
    "print(np.matmul(A, vektor_A))\n",
    "print(\"By Inner\")\n",
    "print(np.inner(A, vektor_A))\n",
    "print(\"By @ operator\")\n",
    "print(A@vektor_A)"
   ]
  },
  {
   "cell_type": "markdown",
   "metadata": {},
   "source": [
    "### Operasi Matrik-Matrik"
   ]
  },
  {
   "cell_type": "markdown",
   "metadata": {},
   "source": [
    "Rule of thumb : \n",
    "1. Matrik dengan M row dan M kolom hanya bisa di multipikasi dengan matrik dengan M row dan M kolom menghasilkan matriks M row dan M kolom."
   ]
  },
  {
   "attachments": {
    "image.png": {
     "image/png": "[encoded data removed]"
    }
   },
   "cell_type": "markdown",
   "metadata": {},
   "source": [
    "![image.png](attachment:image.png)"
   ]
  },
  {
   "cell_type": "code",
   "execution_count": 43,
   "metadata": {},
   "outputs": [
    {
     "name": "stdout",
     "output_type": "stream",
     "text": [
      "[[35 24 33]\n",
      " [39 30 43]\n",
      " [27 38 47]]\n"
     ]
    }
   ],
   "source": [
    "matriks_A = np.array([[3, 2, 2], \n",
    "                     [3, 2, 4],\n",
    "                     [1, 3, 6]])\n",
    "\n",
    "matriks_B = np.array([[9, 2, 5],\n",
    "                    [2, 6, 4], \n",
    "                     [2, 3, 5]])\n",
    "\n",
    "\n",
    "print(matriks_A.dot(matriks_B))"
   ]
  },
  {
   "cell_type": "markdown",
   "metadata": {},
   "source": [
    "2. Multipikasi dari matriks A dengan matriks B, berbeda dengan matriks B dengan A"
   ]
  },
  {
   "cell_type": "code",
   "execution_count": 44,
   "metadata": {},
   "outputs": [
    {
     "data": {
      "text/plain": [
       "array([[False, False, False],\n",
       "       [False, False, False],\n",
       "       [False, False, False]])"
      ]
     },
     "execution_count": 44,
     "metadata": {},
     "output_type": "execute_result"
    }
   ],
   "source": [
    "matriks_A.dot(matriks_B) == matriks_B.dot(matriks_A)"
   ]
  },
  {
   "cell_type": "markdown",
   "metadata": {},
   "source": [
    "### Identitas Matrik"
   ]
  },
  {
   "cell_type": "markdown",
   "metadata": {},
   "source": [
    "Defini Matrik Identitas : https://id.wikipedia.org/wiki/Matriks_identitas"
   ]
  },
  {
   "cell_type": "code",
   "execution_count": 50,
   "metadata": {},
   "outputs": [
    {
     "name": "stdout",
     "output_type": "stream",
     "text": [
      "[[1. 0. 0.]\n",
      " [0. 1. 0.]\n",
      " [0. 0. 1.]]\n"
     ]
    }
   ],
   "source": [
    "# cara membuat matriks identitas\n",
    "\n",
    "identity_3 = np.identity(3) # 3 = jumlah dimensi\n",
    "print(identity_3)"
   ]
  },
  {
   "cell_type": "markdown",
   "metadata": {},
   "source": [
    "perkalian matrik dengan idenitas menhasilkan nilai matrik itu sendiri"
   ]
  },
  {
   "cell_type": "code",
   "execution_count": 51,
   "metadata": {},
   "outputs": [
    {
     "name": "stdout",
     "output_type": "stream",
     "text": [
      "[[3 2 2]\n",
      " [3 2 4]\n",
      " [1 3 6]]\n"
     ]
    }
   ],
   "source": [
    "print(matriks_A)"
   ]
  },
  {
   "cell_type": "code",
   "execution_count": 53,
   "metadata": {},
   "outputs": [
    {
     "data": {
      "text/plain": [
       "array([[3., 2., 2.],\n",
       "       [3., 2., 4.],\n",
       "       [1., 3., 6.]])"
      ]
     },
     "execution_count": 53,
     "metadata": {},
     "output_type": "execute_result"
    }
   ],
   "source": [
    "matriks_A.dot(identity_3)"
   ]
  },
  {
   "cell_type": "code",
   "execution_count": 55,
   "metadata": {},
   "outputs": [
    {
     "data": {
      "text/plain": [
       "array([[3., 2., 2.],\n",
       "       [3., 2., 4.],\n",
       "       [1., 3., 6.]])"
      ]
     },
     "execution_count": 55,
     "metadata": {},
     "output_type": "execute_result"
    }
   ],
   "source": [
    "identity_3.dot(matriks_A)"
   ]
  }
 ],
 "metadata": {
  "kernelspec": {
   "display_name": "Python 3",
   "language": "python",
   "name": "python3"
  },
  "language_info": {
   "codemirror_mode": {
    "name": "ipython",
    "version": 3
   },
   "file_extension": ".py",
   "mimetype": "text/x-python",
   "name": "python",
   "nbconvert_exporter": "python",
   "pygments_lexer": "ipython3",
   "version": "3.6.4"
  }
 },
 "nbformat": 4,
 "nbformat_minor": 2
}
